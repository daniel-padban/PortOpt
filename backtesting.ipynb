{
 "cells": [
  {
   "cell_type": "markdown",
   "metadata": {},
   "source": [
    "### Import modules"
   ]
  },
  {
   "cell_type": "code",
   "execution_count": 3,
   "metadata": {},
   "outputs": [],
   "source": [
    "from datetime import date, timedelta\n",
    "import matplotlib.dates as mdates\n",
    "import matplotlib.pyplot as plt\n",
    "import pandas as pd\n",
    "import yfinance as yf\n",
    "import numpy as np\n",
    "import torch\n",
    "\n",
    "from JSONReader import read_json\n",
    "from cov_matrix import MPTCovMat\n",
    "from allocator import WeightOptimizer\n",
    "from backtesting import repeatingBacktester"
   ]
  },
  {
   "cell_type": "markdown",
   "metadata": {},
   "source": [
    "### Set parametes"
   ]
  },
  {
   "cell_type": "code",
   "execution_count": 4,
   "metadata": {},
   "outputs": [],
   "source": [
    "# ---------- Testing ----------\n",
    "eval_start = date(2000,1,1)\n",
    "eval_end = date(2024,12,31)\n",
    "\n",
    "lookback_period = 2 #years\n",
    "rebalancing_interval = 0.5 #years\n",
    "\n",
    "#loss function:\n",
    "alpha = 0.3 #calmar\n",
    "beta = 0.1 #omega\n",
    "gamma = 0.6 #sortino\n",
    "\n",
    "#target:\n",
    "rf = 0.027 #risk free rate (can be used as target rate instead)\n",
    "rf_period = timedelta(120) #number of days for risk free, e.g. 365 for annual \n",
    "\n",
    "num_iter = 10000 #number of weight update iterations\n",
    "weight_decay = 0.1 #affects distribution of weights - higher value will lead to more even distribution\n",
    "\n",
    "# ---------- COMPARISON ---------- \n",
    "comparison_ticker = '^OMX' #ticker of index to compare against"
   ]
  },
  {
   "cell_type": "code",
   "execution_count": null,
   "metadata": {},
   "outputs": [
    {
     "name": "stderr",
     "output_type": "stream",
     "text": [
      "[*********************100%***********************]  30 of 30 completed\n"
     ]
    },
    {
     "name": "stdout",
     "output_type": "stream",
     "text": [
      "Optimizing weights... \n",
      "Ticker\n",
      "ABB.ST          4.493760\n",
      "ALFA.ST         2.003790\n",
      "ASSA-B.ST       0.508921\n",
      "ATCO-A.ST       1.664958\n",
      "ATCO-B.ST       0.983837\n",
      "AZN.ST          1.901111\n",
      "BOL.ST          0.880206\n",
      "ELUX-B.ST       0.207179\n",
      "ERIC-B.ST       0.736760\n",
      "ESSITY-B.ST     0.966924\n",
      "EVO.ST          3.622478\n",
      "GETI-B.ST       0.705915\n",
      "HEXA-B.ST       0.330110\n",
      "HM-B.ST         0.484249\n",
      "INVE-B.ST      64.602547\n",
      "KINV-B.ST       0.096646\n",
      "NDA-SE.ST       0.181819\n",
      "NIBE-B.ST       1.001772\n",
      "SAAB-B.ST       1.031978\n",
      "SAND.ST         0.287704\n",
      "SBB-B.ST        0.951221\n",
      "SCA-B.ST        1.867854\n",
      "SEB-A.ST        1.718071\n",
      "SHB-A.ST        0.441504\n",
      "SINCH.ST        0.770154\n",
      "SKF-B.ST        0.321081\n",
      "SWED-A.ST       1.291334\n",
      "TEL2-B.ST       3.096545\n",
      "TELIA.ST        0.317192\n",
      "VOLV-B.ST       2.532376\n",
      "Name: Weights %, dtype: float32\n"
     ]
    }
   ],
   "source": [
    "\n",
    "#get data\n",
    "data = MPTCovMat(tickers=tickers,start=eval_start,end=eval_end)\n",
    "returns = data.log_return_df\n",
    "col_indices = data.col_indices\n",
    "asset_names = [col_indices[i] for i in sorted(col_indices.keys())]\n",
    "\n",
    "allocator = WeightOptimizer(lr=1e-3,num_assets=len(asset_names),risk_free=rf,risk_free_period=rf_period,num_iter=num_iter, weight_decay=weight_decay)\n",
    "cos_losses, pf_daily_returns = allocator.optimize_weights(alpha,beta,gamma, returns=torch.tensor(returns.values))\n",
    "weights = pd.DataFrame(allocator.alloc_weights.numpy(force=True), index=asset_names, columns=['Weights'])\n",
    "weights.index.name = 'Ticker'\n",
    "weights['Weights %'] = weights['Weights']*100\n",
    "weights['Weights %'].to_csv('weights.csv')\n",
    "print(weights['Weights %'])"
   ]
  },
  {
   "cell_type": "code",
   "execution_count": null,
   "metadata": {},
   "outputs": [],
   "source": [
    "#create_dates\n",
    "ticker_list = read_json('eval_assets.json')\n",
    "tickers = yf.Tickers(ticker_list)\n",
    "\n",
    "rebal_init = eval_start + timedelta(365*lookback_period)\n",
    "current_date = rebal_init\n",
    "while current_date <= eval_end:\n",
    "    data = MPTCovMat(tickers=tickers,start=current_date,end=(current_date+1))\n",
    "    allocator = WeightOptimizer(lr=1e-3,num_assets=len(asset_names),risk_free=rf,risk_free_period=rf_period,num_iter=num_iter, weight_decay=weight_decay)\n",
    "    weights = pd.DataFrame(allocator.alloc_weights.numpy(force=True), index=asset_names, columns=['Weights'])\n"
   ]
  },
  {
   "cell_type": "code",
   "execution_count": null,
   "metadata": {},
   "outputs": [],
   "source": []
  }
 ],
 "metadata": {
  "kernelspec": {
   "display_name": "portopt-venv",
   "language": "python",
   "name": "python3"
  },
  "language_info": {
   "codemirror_mode": {
    "name": "ipython",
    "version": 3
   },
   "file_extension": ".py",
   "mimetype": "text/x-python",
   "name": "python",
   "nbconvert_exporter": "python",
   "pygments_lexer": "ipython3",
   "version": "3.12.9"
  }
 },
 "nbformat": 4,
 "nbformat_minor": 2
}
